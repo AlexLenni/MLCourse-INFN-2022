{
 "cells": [
  {
   "cell_type": "markdown",
   "metadata": {},
   "source": [
    "# Hands-on Day 2\n",
    "\n",
    "- course [slides](https://github.com/Course-bigDataAndML/MLCourse-INFN-2022/blob/master/Slides/Day2/Big%20data%20science%20-%20Day%202%20-%20INFN%202022.pdf)\n",
    "\n",
    "\n",
    "## You'll learn\n",
    "\n",
    "### ML methods\n",
    "\n",
    "- Multilayer Perceptron Classifier (MCP) with pyspark.ml\n",
    "\n",
    "### ML techniques\n",
    "\n",
    "- hyperparameter optimisation\n",
    "- ROC curves"
   ]
  },
  {
   "cell_type": "code",
   "execution_count": 1,
   "metadata": {},
   "outputs": [],
   "source": [
    "import pandas as pd\n",
    "import numpy as np\n",
    "import matplotlib.pyplot as plt\n",
    "%matplotlib inline\n",
    "\n",
    "# our custom functions\n",
    "from custom_functions import *"
   ]
  },
  {
   "cell_type": "markdown",
   "metadata": {},
   "source": [
    "#### Remember to start spark by clicking on the square icon all the way to the right\n",
    "\n",
    "Setup and restart the Spark context with our configuration"
   ]
  },
  {
   "cell_type": "code",
   "execution_count": 2,
   "metadata": {},
   "outputs": [
    {
     "data": {
      "text/html": [
       "\n",
       "        <div>\n",
       "            <p><b>SparkContext</b></p>\n",
       "\n",
       "            <p><a href=\"http://10.244.2.10:4040\">Spark UI</a></p>\n",
       "\n",
       "            <dl>\n",
       "              <dt>Version</dt>\n",
       "                <dd><code>v3.0.1</code></dd>\n",
       "              <dt>Master</dt>\n",
       "                <dd><code>k8s://https://kubernetes:443</code></dd>\n",
       "              <dt>AppName</dt>\n",
       "                <dd><code>MyApp</code></dd>\n",
       "            </dl>\n",
       "        </div>\n",
       "        "
      ],
      "text/plain": [
       "<SparkContext master=k8s://https://kubernetes:443 appName=MyApp>"
      ]
     },
     "execution_count": 2,
     "metadata": {},
     "output_type": "execute_result"
    }
   ],
   "source": [
    "from pyspark.sql import SparkSession\n",
    "from pyspark import SparkConf, SparkContext\n",
    "\n",
    "# get token to authenticate to minio storage\n",
    "!eval `oidc-keychain` > /dev/null && oidc-token dodas --time=3600 > /tmp/token\n",
    "with open('/tmp/token') as f:\n",
    "    token = f.readlines()[0].split(\"\\n\")[0]\n",
    "\n",
    "# build Spark configuration options    \n",
    "conf = setupSpark(token)\n",
    "\n",
    "# to update Spark config, we need first to stop the spark context\n",
    "SparkContext.stop(sc)\n",
    "\n",
    "# Then create first spark context, and then session\n",
    "sc = SparkContext(conf = conf)\n",
    "spark = SparkSession.builder.config(conf=conf).getOrCreate()\n",
    "\n",
    "# check if Spark is there\n",
    "sc"
   ]
  },
  {
   "cell_type": "markdown",
   "metadata": {},
   "source": [
    "# Data preprocessing"
   ]
  },
  {
   "cell_type": "code",
   "execution_count": 3,
   "metadata": {},
   "outputs": [
    {
     "name": "stdout",
     "output_type": "stream",
     "text": [
      "CPU times: user 5.88 ms, sys: 3.15 ms, total: 9.02 ms\n",
      "Wall time: 5.66 s\n",
      "There are 99999 events\n"
     ]
    }
   ],
   "source": [
    "inputFile = \"s3a://scratch/legger/higgs/Higgs100k.parquet\"\n",
    "\n",
    "%time df = spark.read.format('parquet').option('header', 'true').option('inferschema', 'true').load(inputFile)\n",
    "\n",
    "total_events = df.count()\n",
    "print('There are '+str(total_events)+' events')"
   ]
  },
  {
   "cell_type": "code",
   "execution_count": 4,
   "metadata": {},
   "outputs": [
    {
     "name": "stdout",
     "output_type": "stream",
     "text": [
      "Events for training 80023\n",
      "Events for validation 19976\n"
     ]
    }
   ],
   "source": [
    "#split the dataset for training and test\n",
    "train, test = df.randomSplit([0.8,0.2])\n",
    "\n",
    "print('Events for training {}'.format(train.count()))\n",
    "print('Events for validation {}'.format(test.count()))"
   ]
  },
  {
   "cell_type": "code",
   "execution_count": 5,
   "metadata": {},
   "outputs": [],
   "source": [
    "# create the input feature vector \n",
    "feature = train.columns\n",
    "feature.remove('label')\n",
    "\n",
    "from pyspark.ml.feature import VectorAssembler\n",
    "\n",
    "#VectorAssembler is a transformer that combines a given list of columns into a single vector column\n",
    "assembler = VectorAssembler(inputCols=feature, outputCol='features')\n",
    "train = assembler.transform(train)\n",
    "test = assembler.transform(test)"
   ]
  },
  {
   "cell_type": "markdown",
   "metadata": {},
   "source": [
    "# Exercise 1\n",
    "\n",
    "- Implement a shallow NN: use *MultiLayerPerceptronClassifier* from pyspark\n",
    "- documentation: https://spark.apache.org/docs/latest/ml-classification-regression.html#multilayer-perceptron-classifier\n",
    "- implement a network with: \n",
    "  - one input layer of size 28 (our features), \n",
    "  - two intermediate layers of size 30,\n",
    "  - one output of size 2 (the label classes)\n",
    "  - other hyerparameters: maxIter=100, blockSize=128, seed=1234\n",
    "- plot the various metrics (ROC, signal vs background)\n",
    "- bonus: do hyperparameter optimisation"
   ]
  },
  {
   "cell_type": "code",
   "execution_count": 6,
   "metadata": {},
   "outputs": [],
   "source": [
    "from pyspark.ml.classification import MultilayerPerceptronClassifier\n",
    "\n",
    "# specify layers for the neural network:\n",
    "\n",
    "# input layer of size 28 (features), two intermediate of size 30, and output of size 2 (classes) \n",
    "layers = [28, 30, 30, 2]\n",
    "\n",
    "# create the trainer and set its parameters\n",
    "mpc = MultilayerPerceptronClassifier(labelCol='label', featuresCol='features', maxIter=100, layers=layers, blockSize=128, seed=1234)"
   ]
  },
  {
   "cell_type": "code",
   "execution_count": 7,
   "metadata": {},
   "outputs": [
    {
     "name": "stdout",
     "output_type": "stream",
     "text": [
      "CPU times: user 726 ms, sys: 99.3 ms, total: 826 ms\n",
      "Wall time: 1min 37s\n"
     ]
    }
   ],
   "source": [
    "%%time\n",
    "model_mpc = mpc.fit(train)"
   ]
  },
  {
   "cell_type": "code",
   "execution_count": 8,
   "metadata": {},
   "outputs": [
    {
     "data": {
      "image/png": "[encoded data removed]",
      "text/plain": [
       "<Figure size 432x288 with 1 Axes>"
      ]
     },
     "metadata": {
      "needs_background": "light"
     },
     "output_type": "display_data"
    }
   ],
   "source": [
    "# compute accuracy on the test set\n",
    "from pyspark.ml.evaluation import BinaryClassificationEvaluator\n",
    "\n",
    "result = model_mpc.transform(test)\n",
    "evaluator = BinaryClassificationEvaluator(labelCol='label', metricName=\"areaUnderROC\")\n",
    "#print(\"Test set AUC = \" + str(evaluator.evaluate(result)))\n",
    "\n",
    "#make ROC curve\n",
    "drawROC(result)"
   ]
  },
  {
   "cell_type": "code",
   "execution_count": 9,
   "metadata": {},
   "outputs": [
    {
     "data": {
      "image/png": "[encoded data removed]",
      "text/plain": [
       "<Figure size 432x288 with 1 Axes>"
      ]
     },
     "metadata": {
      "needs_background": "light"
     },
     "output_type": "display_data"
    }
   ],
   "source": [
    "#plot signal vs background with prediction\n",
    "plotSignalvsBgWithPrediction(test, result, 'm_bb')"
   ]
  }
 ],
 "metadata": {
  "kernelspec": {
   "display_name": "Python 3",
   "language": "python",
   "name": "python3"
  },
  "language_info": {
   "codemirror_mode": {
    "name": "ipython",
    "version": 3
   },
   "file_extension": ".py",
   "mimetype": "text/x-python",
   "name": "python",
   "nbconvert_exporter": "python",
   "pygments_lexer": "ipython3",
   "version": "3.8.5"
  },
  "sparkconnect": {
   "bundled_options": [],
   "list_of_options": []
  }
 },
 "nbformat": 4,
 "nbformat_minor": 2
}
